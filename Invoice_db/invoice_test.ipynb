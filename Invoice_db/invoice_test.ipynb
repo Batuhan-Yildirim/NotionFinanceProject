{
 "cells": [
  {
   "cell_type": "code",
   "execution_count": 2,
   "metadata": {},
   "outputs": [
    {
     "data": {
      "text/html": [
       "<div>\n",
       "<style scoped>\n",
       "    .dataframe tbody tr th:only-of-type {\n",
       "        vertical-align: middle;\n",
       "    }\n",
       "\n",
       "    .dataframe tbody tr th {\n",
       "        vertical-align: top;\n",
       "    }\n",
       "\n",
       "    .dataframe thead th {\n",
       "        text-align: right;\n",
       "    }\n",
       "</style>\n",
       "<table border=\"1\" class=\"dataframe\">\n",
       "  <thead>\n",
       "    <tr style=\"text-align: right;\">\n",
       "      <th></th>\n",
       "      <th>Trading Partner</th>\n",
       "      <th>Invoice Number</th>\n",
       "      <th>Invoice Date</th>\n",
       "      <th>Due Date</th>\n",
       "      <th>Amount</th>\n",
       "      <th>Tax Amount</th>\n",
       "      <th>Invoice Status</th>\n",
       "    </tr>\n",
       "  </thead>\n",
       "  <tbody>\n",
       "    <tr>\n",
       "      <th>0</th>\n",
       "      <td>zonex1</td>\n",
       "      <td>Bill58740</td>\n",
       "      <td>2024-09-12</td>\n",
       "      <td>2024-10-12</td>\n",
       "      <td>5125000</td>\n",
       "      <td>259</td>\n",
       "      <td>Cancelled</td>\n",
       "    </tr>\n",
       "    <tr>\n",
       "      <th>1</th>\n",
       "      <td>Dream Company</td>\n",
       "      <td>1253508</td>\n",
       "      <td>2024-08-13</td>\n",
       "      <td>2024-09-06</td>\n",
       "      <td>890</td>\n",
       "      <td>12</td>\n",
       "      <td>Hold</td>\n",
       "    </tr>\n",
       "    <tr>\n",
       "      <th>2</th>\n",
       "      <td>ABC Inc.</td>\n",
       "      <td>00000000000</td>\n",
       "      <td>2024-08-18</td>\n",
       "      <td>2024-08-30</td>\n",
       "      <td>5000</td>\n",
       "      <td>50</td>\n",
       "      <td>Pending Payment</td>\n",
       "    </tr>\n",
       "    <tr>\n",
       "      <th>3</th>\n",
       "      <td>Fly To Moon</td>\n",
       "      <td>FTM50842</td>\n",
       "      <td>2024-08-04</td>\n",
       "      <td>2024-08-16</td>\n",
       "      <td>455</td>\n",
       "      <td>8</td>\n",
       "      <td>Paid</td>\n",
       "    </tr>\n",
       "  </tbody>\n",
       "</table>\n",
       "</div>"
      ],
      "text/plain": [
       "  Trading Partner Invoice Number Invoice Date    Due Date   Amount  \\\n",
       "0          zonex1      Bill58740   2024-09-12  2024-10-12  5125000   \n",
       "1   Dream Company        1253508   2024-08-13  2024-09-06      890   \n",
       "2        ABC Inc.    00000000000   2024-08-18  2024-08-30     5000   \n",
       "3     Fly To Moon       FTM50842   2024-08-04  2024-08-16      455   \n",
       "\n",
       "   Tax Amount   Invoice Status  \n",
       "0         259        Cancelled  \n",
       "1          12             Hold  \n",
       "2          50  Pending Payment  \n",
       "3           8             Paid  "
      ]
     },
     "execution_count": 2,
     "metadata": {},
     "output_type": "execute_result"
    }
   ],
   "source": [
    "import pandas as pd\n",
    "\n",
    "df = pd.read_json(\"invoice_rows.json\")\n",
    "\n",
    "df"
   ]
  }
 ],
 "metadata": {
  "kernelspec": {
   "display_name": "Python 3",
   "language": "python",
   "name": "python3"
  },
  "language_info": {
   "codemirror_mode": {
    "name": "ipython",
    "version": 3
   },
   "file_extension": ".py",
   "mimetype": "text/x-python",
   "name": "python",
   "nbconvert_exporter": "python",
   "pygments_lexer": "ipython3",
   "version": "3.12.3"
  }
 },
 "nbformat": 4,
 "nbformat_minor": 2
}
